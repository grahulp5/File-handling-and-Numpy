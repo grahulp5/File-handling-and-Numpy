{
 "cells": [
  {
   "cell_type": "markdown",
   "metadata": {},
   "source": [
    "# File Handling & Numpy Arrays"
   ]
  },
  {
   "cell_type": "markdown",
   "metadata": {},
   "source": [
    "Complete the tasks listed below. You can submit the completed lab until 11:59 PM in the night."
   ]
  },
  {
   "cell_type": "markdown",
   "metadata": {},
   "source": [
    "### Task 1 (3 marks)\n",
    "\n",
    "The __data__ folder contains five csv files with column names `Col_A`, `Col_B`, `Col_C`, `Col_D`, and `Col_E`, as well as some fictitious data. Write Python code that extracts all the lines from each file (except the first line which contains the columns names) and creates a list of those integers for each file. For example, the list of integers for the file `Y2015-data.csv` would be [1, 2, 3, 4, 5, 6, 7, 8, 9, 10, 11, 12, 13, 14, 15, 16, 17, 18, 19, 20].\n",
    "\n",
    "Then write code that extracts the year (such as `Y2015`) from each file path (such as `data\\\\Y2015-data.csv`) and creates a key with that year in a dictionary named __data_dict__. The value for the key (e.g. `Y2015`) should be the list of integers extracted from that file (i.e. `Y2015-data.csv`). You can write all of the above mentioned code in a single cell.\n",
    "\n",
    "Some starter code is reproduced below for your convenience. Also, the desired output __data_dict__ is shown below."
   ]
  },
  {
   "cell_type": "markdown",
   "metadata": {},
   "source": [
    "<img src=\"figs/task1.png\" width=\"1200\" height=\"200\" align=\"left\">"
   ]
  },
  {
   "cell_type": "code",
   "execution_count": 1,
   "metadata": {},
   "outputs": [],
   "source": [
    "import glob"
   ]
  },
  {
   "cell_type": "code",
   "execution_count": 2,
   "metadata": {},
   "outputs": [],
   "source": [
    "path = 'data' # use your path\n",
    "allFiles = []\n",
    "allFiles = glob.glob(path + \"/*.csv\")"
   ]
  },
  {
   "cell_type": "code",
   "execution_count": 3,
   "metadata": {
    "scrolled": true
   },
   "outputs": [
    {
     "data": {
      "text/plain": [
       "['data\\\\Y2015-data.csv',\n",
       " 'data\\\\Y2016-data.csv',\n",
       " 'data\\\\Y2017-data.csv',\n",
       " 'data\\\\Y2018-data.csv',\n",
       " 'data\\\\Y2019-data.csv']"
      ]
     },
     "execution_count": 3,
     "metadata": {},
     "output_type": "execute_result"
    }
   ],
   "source": [
    "allFiles"
   ]
  },
  {
   "cell_type": "markdown",
   "metadata": {},
   "source": [
    "### Task 2 (0.5 mark)\n",
    "\n",
    "Write NumPy code to create a 3x3 matrix with values ranging from 2 to 10 (inclusive of both ends)."
   ]
  },
  {
   "cell_type": "code",
   "execution_count": 6,
   "metadata": {},
   "outputs": [],
   "source": [
    "### Write your code below this comment."
   ]
  },
  {
   "cell_type": "markdown",
   "metadata": {},
   "source": [
    "### Task 3 (0.5 mark)\n",
    "\n",
    "Write NumPy code to convert the array __[1, 2, 3, 4, 5]__ to float type. Print both the original as well as the converted array."
   ]
  },
  {
   "cell_type": "code",
   "execution_count": 8,
   "metadata": {},
   "outputs": [],
   "source": [
    "### Write your code below this comment."
   ]
  },
  {
   "cell_type": "markdown",
   "metadata": {},
   "source": [
    "### Task 4 (2 marks)\n",
    "\n",
    "Write NumPy code to create a 5x5 matrix with all 1's. Then write code to modify the matrix such that it has 1 on the borders and 0 inside. Print both the original as well as the modified array. The following is a pictorial representation of such a matrix:"
   ]
  },
  {
   "cell_type": "markdown",
   "metadata": {},
   "source": [
    "<img src=\"figs/task4.png\" width=\"250\" align=\"left\">"
   ]
  },
  {
   "cell_type": "code",
   "execution_count": 10,
   "metadata": {},
   "outputs": [],
   "source": [
    "### Write your code below this comment."
   ]
  },
  {
   "cell_type": "markdown",
   "metadata": {},
   "source": [
    "### Task 5 (2 marks)\n",
    "\n",
    "Write NumPy code to get the unique elements of the arrays __[10, 10, 20, 20, 30, 30]__ and __[[1, 1], [2, 3]]__. Print both the original arrays as well as the arrays with unique elements. The following is a pictorial representation of this operation:"
   ]
  },
  {
   "cell_type": "markdown",
   "metadata": {},
   "source": [
    "<img src=\"figs/task5.png\" width=\"350\" height=\"350\" align=\"left\">"
   ]
  },
  {
   "cell_type": "code",
   "execution_count": 12,
   "metadata": {},
   "outputs": [],
   "source": [
    "### Write your code below this comment."
   ]
  },
  {
   "cell_type": "markdown",
   "metadata": {},
   "source": [
    "### Task 6 (2 marks)\n",
    "\n",
    "Write NumPy code to change the dimensions of the 1D array __[1, 2, 3, 4, 5, 6, 7, 8, 9]__ to a 3x3 matrix. Explain why the shape of the 1D array displays 9 rows and no columns although it has just a single row. How could this possibly be corrected?"
   ]
  },
  {
   "cell_type": "code",
   "execution_count": 14,
   "metadata": {},
   "outputs": [],
   "source": [
    "### Write your code below this comment."
   ]
  },
  {
   "cell_type": "markdown",
   "metadata": {},
   "source": [
    "__Ans:__ "
   ]
  }
 ],
 "metadata": {
  "kernelspec": {
   "display_name": "Python 3 (ipykernel)",
   "language": "python",
   "name": "python3"
  },
  "language_info": {
   "codemirror_mode": {
    "name": "ipython",
    "version": 3
   },
   "file_extension": ".py",
   "mimetype": "text/x-python",
   "name": "python",
   "nbconvert_exporter": "python",
   "pygments_lexer": "ipython3",
   "version": "3.9.7"
  }
 },
 "nbformat": 4,
 "nbformat_minor": 2
}
