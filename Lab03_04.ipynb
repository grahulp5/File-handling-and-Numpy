{
  "cells": [
    {
      "cell_type": "markdown",
      "metadata": {
        "id": "_af6IKns8znW"
      },
      "source": [
        "# File Handling & Numpy Arrays"
      ]
    },
    {
      "cell_type": "markdown",
      "metadata": {
        "id": "IC9MYUjP8znX"
      },
      "source": [
        "Complete the tasks listed below. You can submit the completed lab until 11:59 PM in the night."
      ]
    },
    {
      "cell_type": "markdown",
      "metadata": {
        "id": "s5CQWlkS8znX"
      },
      "source": [
        "### Task 1 (3 marks)\n",
        "\n",
        "The __data__ folder contains five csv files with column names `Col_A`, `Col_B`, `Col_C`, `Col_D`, and `Col_E`, as well as some fictitious data. Write Python code that extracts all the lines from each file (except the first line which contains the columns names) and creates a list of those integers for each file. For example, the list of integers for the file `Y2015-data.csv` would be [1, 2, 3, 4, 5, 6, 7, 8, 9, 10, 11, 12, 13, 14, 15, 16, 17, 18, 19, 20].\n",
        "\n",
        "Then write code that extracts the year (such as `Y2015`) from each file path (such as `data\\\\Y2015-data.csv`) and creates a key with that year in a dictionary named __data_dict__. The value for the key (e.g. `Y2015`) should be the list of integers extracted from that file (i.e. `Y2015-data.csv`). You can write all of the above mentioned code in a single cell.\n",
        "\n",
        "Some starter code is reproduced below for your convenience. Also, the desired output __data_dict__ is shown below."
      ]
    },
    {
      "cell_type": "markdown",
      "metadata": {
        "id": "U-y454Fn8znY"
      },
      "source": [
        "<img src=\"figs/task1.png\" width=\"1200\" height=\"200\" align=\"left\">"
      ]
    },
    {
      "cell_type": "code",
      "execution_count": 19,
      "metadata": {
        "id": "1OBwxlnv8znY"
      },
      "outputs": [],
      "source": [
        "import glob"
      ]
    },
    {
      "cell_type": "code",
      "execution_count": 20,
      "metadata": {
        "id": "ar9RxHCP8znY"
      },
      "outputs": [],
      "source": [
        "path = '/content/' # use your path\n",
        "allFiles = []\n",
        "allFiles = glob.glob(path + \"/*.csv\")"
      ]
    },
    {
      "cell_type": "code",
      "execution_count": 21,
      "metadata": {
        "scrolled": true,
        "colab": {
          "base_uri": "https://localhost:8080/"
        },
        "id": "Ax-qBCUB8znZ",
        "outputId": "ffab8730-85f1-48cc-dfcb-f676d2a0daa3"
      },
      "outputs": [
        {
          "output_type": "execute_result",
          "data": {
            "text/plain": [
              "['/content/Y2019-data.csv',\n",
              " '/content/Y2015-data.csv',\n",
              " '/content/Y2017-data.csv',\n",
              " '/content/Y2018-data.csv',\n",
              " '/content/Y2016-data.csv']"
            ]
          },
          "metadata": {},
          "execution_count": 21
        }
      ],
      "source": [
        "allFiles"
      ]
    },
    {
      "cell_type": "code",
      "source": [
        "import csv\n",
        "data_dict = {}\n",
        "\n",
        "for file_path in allFiles:\n",
        "    year_1 = file_path.split('-')[0]\n",
        "    year=year_1.split('/')[2]\n",
        "    with open(file_path, 'r') as csvfile:\n",
        "        reader = csv.reader(csvfile)\n",
        "        next(reader)\n",
        "        data = []\n",
        "        for row in reader:\n",
        "            data.extend(map(int, row))\n",
        "        data_dict[year] = data\n",
        "\n",
        "sorted_data_dict = dict(sorted(data_dict.items(), key=lambda x: x[0]))\n",
        "\n",
        "print(sorted_data_dict)\n"
      ],
      "metadata": {
        "colab": {
          "base_uri": "https://localhost:8080/"
        },
        "id": "fZcmueR59tUo",
        "outputId": "cdf828fa-998d-46da-d91d-ced036c9b414"
      },
      "execution_count": 22,
      "outputs": [
        {
          "output_type": "stream",
          "name": "stdout",
          "text": [
            "{'Y2015': [1, 2, 3, 4, 5, 6, 7, 8, 9, 10, 11, 12, 13, 14, 15, 16, 17, 18, 19, 20], 'Y2016': [21, 22, 23, 24, 25, 26, 27, 28, 29, 30, 31, 32, 33, 34, 35, 36, 37, 38, 39, 40], 'Y2017': [41, 42, 43, 44, 45, 46, 47, 48, 49, 50, 51, 52, 53, 54, 55, 56, 57, 58, 59, 60], 'Y2018': [61, 62, 63, 64, 65, 66, 67, 68, 69, 70, 71, 72, 73, 74, 75, 76, 77, 78, 79, 80], 'Y2019': [81, 82, 83, 84, 85, 86, 87, 88, 89, 90, 91, 92, 93, 94, 95, 96, 97, 98, 99, 100]}\n"
          ]
        }
      ]
    },
    {
      "cell_type": "markdown",
      "metadata": {
        "id": "VvngrORu8znZ"
      },
      "source": [
        "### Task 2 (0.5 mark)\n",
        "\n",
        "Write NumPy code to create a 3x3 matrix with values ranging from 2 to 10 (inclusive of both ends)."
      ]
    },
    {
      "cell_type": "code",
      "execution_count": 23,
      "metadata": {
        "colab": {
          "base_uri": "https://localhost:8080/"
        },
        "id": "PqV-pW-P8znZ",
        "outputId": "1696d4ee-e29e-4253-f580-fb9b23990440"
      },
      "outputs": [
        {
          "output_type": "stream",
          "name": "stdout",
          "text": [
            "[[ 2  3  4]\n",
            " [ 5  6  7]\n",
            " [ 8  9 10]]\n"
          ]
        }
      ],
      "source": [
        "### Write your code below this comment.\n",
        "\n",
        "import numpy as np\n",
        "\n",
        "mat_val = np.arange(2, 11)\n",
        "\n",
        "mat = mat_val.reshape(3, 3)\n",
        "\n",
        "print(mat)\n"
      ]
    },
    {
      "cell_type": "markdown",
      "metadata": {
        "id": "GKYVq-Es8znZ"
      },
      "source": [
        "### Task 3 (0.5 mark)\n",
        "\n",
        "Write NumPy code to convert the array __[1, 2, 3, 4, 5]__ to float type. Print both the original as well as the converted array."
      ]
    },
    {
      "cell_type": "code",
      "execution_count": 24,
      "metadata": {
        "colab": {
          "base_uri": "https://localhost:8080/"
        },
        "id": "gET-FFWr8zna",
        "outputId": "58ab2190-6cde-4a38-bd76-3d5d04ef5d8d"
      },
      "outputs": [
        {
          "output_type": "stream",
          "name": "stdout",
          "text": [
            "Original Array: [1, 2, 3, 4, 5]\n",
            "Converted Array (float): [1. 2. 3. 4. 5.]\n"
          ]
        }
      ],
      "source": [
        "### Write your code below this comment.\n",
        "og_arr = [1, 2, 3, 4, 5]\n",
        "\n",
        "new_arr = np.array(og_arr, dtype=float)\n",
        "\n",
        "print(\"Original Array:\", og_arr)\n",
        "print(\"Converted Array (float):\", new_arr)"
      ]
    },
    {
      "cell_type": "markdown",
      "metadata": {
        "id": "KuEZfWCy8zna"
      },
      "source": [
        "### Task 4 (2 marks)\n",
        "\n",
        "Write NumPy code to create a 5x5 matrix with all 1's. Then write code to modify the matrix such that it has 1 on the borders and 0 inside. Print both the original as well as the modified array. The following is a pictorial representation of such a matrix:"
      ]
    },
    {
      "cell_type": "markdown",
      "metadata": {
        "id": "4NICe3hv8zna"
      },
      "source": [
        "<img src=\"figs/task4.png\" width=\"250\" align=\"left\">"
      ]
    },
    {
      "cell_type": "code",
      "execution_count": 25,
      "metadata": {
        "colab": {
          "base_uri": "https://localhost:8080/"
        },
        "id": "88Vu929h8zna",
        "outputId": "027652dc-3f94-46a2-d0f3-19c80c7ee189"
      },
      "outputs": [
        {
          "output_type": "stream",
          "name": "stdout",
          "text": [
            "\\Original Matrix:\n",
            "[[1 1 1 1 1]\n",
            " [1 1 1 1 1]\n",
            " [1 1 1 1 1]\n",
            " [1 1 1 1 1]\n",
            " [1 1 1 1 1]]\n",
            "\n",
            "New Matrix:\n",
            "[[1 1 1 1 1]\n",
            " [1 0 0 0 1]\n",
            " [1 0 0 0 1]\n",
            " [1 0 0 0 1]\n",
            " [1 1 1 1 1]]\n"
          ]
        }
      ],
      "source": [
        "### Write your code below this comment.\n",
        "\n",
        "og_mat = np.ones((5, 5), dtype=int)\n",
        "\n",
        "print(\"\\Original Matrix:\")\n",
        "print(og_mat)\n",
        "\n",
        "og_mat[1:-1, 1:-1]=0\n",
        "print(\"\\nNew Matrix:\")\n",
        "print(og_mat)"
      ]
    },
    {
      "cell_type": "markdown",
      "metadata": {
        "id": "4KEbsy_u8zna"
      },
      "source": [
        "### Task 5 (2 marks)\n",
        "\n",
        "Write NumPy code to get the unique elements of the arrays __[10, 10, 20, 20, 30, 30]__ and __[[1, 1], [2, 3]]__. Print both the original arrays as well as the arrays with unique elements. The following is a pictorial representation of this operation:"
      ]
    },
    {
      "cell_type": "markdown",
      "metadata": {
        "id": "s9tKPl-58zna"
      },
      "source": [
        "<img src=\"figs/task5.png\" width=\"350\" height=\"350\" align=\"left\">"
      ]
    },
    {
      "cell_type": "code",
      "execution_count": 26,
      "metadata": {
        "colab": {
          "base_uri": "https://localhost:8080/"
        },
        "id": "qJcyAGtD8zna",
        "outputId": "4876537b-70f8-4647-effe-63bc6f7ea874"
      },
      "outputs": [
        {
          "output_type": "stream",
          "name": "stdout",
          "text": [
            "Original Array 1:\n",
            "[10 10 20 20 30 30]\n",
            "Unique Array 1:\n",
            "[10 20 30]\n",
            "\n",
            "Original Array 2:\n",
            "[[1 1]\n",
            " [2 3]]\n",
            "Unique Array 2:\n",
            "[1 2 3]\n"
          ]
        }
      ],
      "source": [
        "### Write your code below this comment.\n",
        "\n",
        "og_arr1 = np.array([10, 10, 20, 20, 30, 30])\n",
        "og_arr2 = np.array([[1, 1], [2, 3]])\n",
        "\n",
        "new_arr1 = np.unique(og_arr1)\n",
        "\n",
        "new_arr2 = np.unique(og_arr2)\n",
        "\n",
        "print(\"Original Array 1:\")\n",
        "print(og_arr1)\n",
        "print(\"Unique Array 1:\")\n",
        "print(new_arr1)\n",
        "\n",
        "print(\"\\nOriginal Array 2:\")\n",
        "print(og_arr2)\n",
        "print(\"Unique Array 2:\")\n",
        "print(new_arr2)\n"
      ]
    },
    {
      "cell_type": "markdown",
      "metadata": {
        "id": "peaZCz8P8zna"
      },
      "source": [
        "### Task 6 (2 marks)\n",
        "\n",
        "Write NumPy code to change the dimensions of the 1D array __[1, 2, 3, 4, 5, 6, 7, 8, 9]__ to a 3x3 matrix. Explain why the shape of the 1D array displays 9 rows and no columns although it has just a single row. How could this possibly be corrected?"
      ]
    },
    {
      "cell_type": "code",
      "execution_count": 27,
      "metadata": {
        "colab": {
          "base_uri": "https://localhost:8080/"
        },
        "id": "gZzwjj_Z8zna",
        "outputId": "0ebadfdb-0dd8-486d-89bd-b90e6bf6aaa3"
      },
      "outputs": [
        {
          "output_type": "stream",
          "name": "stdout",
          "text": [
            "Shape of 3x3 : (3, 3)\n",
            "Shape of 1D array :\n",
            " (9,)\n"
          ]
        }
      ],
      "source": [
        "arr1 = [1,2,3,4,5,6,7,8,9]\n",
        "\n",
        "arr2 = np.array(arr1)\n",
        "matrix = arr2.reshape(3,3)\n",
        "print(\"Shape of 3x3 :\",matrix.shape)\n",
        "#arr2.reshape(3,3)\n",
        "print(\"Shape of 1D array :\\n\" ,arr2.shape)"
      ]
    },
    {
      "cell_type": "markdown",
      "metadata": {
        "id": "5YEodfBH8zna"
      },
      "source": [
        "__Ans:__ As 1D Matrix has no rows or column concept the shape can be seen as 9 rows with no column values. This can be corrected by passing the array as list to new array variable and then using this newly created array the shape can be transformed to 1 row and 9 column values as below."
      ]
    },
    {
      "cell_type": "code",
      "source": [
        "#arr3 = [[1,2,3,4,5,6,7,8,9]]\n",
        "arr3 = [arr1]\n",
        "\n",
        "arr4 = np.array(arr3)\n",
        "#arr2.reshape(3,3)\n",
        "print(arr4.shape)"
      ],
      "metadata": {
        "colab": {
          "base_uri": "https://localhost:8080/"
        },
        "id": "fT61ytUuUkIS",
        "outputId": "b1388c36-f0cd-4e3c-b392-e4e0a6541a6f"
      },
      "execution_count": 28,
      "outputs": [
        {
          "output_type": "stream",
          "name": "stdout",
          "text": [
            "(1, 9)\n"
          ]
        }
      ]
    }
  ],
  "metadata": {
    "kernelspec": {
      "display_name": "Python 3 (ipykernel)",
      "language": "python",
      "name": "python3"
    },
    "language_info": {
      "codemirror_mode": {
        "name": "ipython",
        "version": 3
      },
      "file_extension": ".py",
      "mimetype": "text/x-python",
      "name": "python",
      "nbconvert_exporter": "python",
      "pygments_lexer": "ipython3",
      "version": "3.9.7"
    },
    "colab": {
      "provenance": []
    }
  },
  "nbformat": 4,
  "nbformat_minor": 0
}